{
  "nbformat": 4,
  "nbformat_minor": 0,
  "metadata": {
    "colab": {
      "name": "NNDL_hw2 .ipynb",
      "provenance": [],
      "collapsed_sections": [
        "4gYjUM-k_4Yx"
      ],
      "toc_visible": true,
      "include_colab_link": true
    },
    "kernelspec": {
      "name": "python3",
      "display_name": "Python 3"
    }
  },
  "cells": [
    {
      "cell_type": "markdown",
      "metadata": {
        "id": "view-in-github",
        "colab_type": "text"
      },
      "source": [
        "<a href=\"https://colab.research.google.com/github/hyydrra/MLP-Regression-AutoEncoder_RBM_AutoEncoder/blob/master/MLP_Stuff.ipynb\" target=\"_parent\"><img src=\"https://colab.research.google.com/assets/colab-badge.svg\" alt=\"Open In Colab\"/></a>"
      ]
    },
    {
      "cell_type": "code",
      "metadata": {
        "id": "giwwx2xmqcyf",
        "colab_type": "code",
        "colab": {}
      },
      "source": [
        "import numpy as np\n",
        "import pandas as pd\n",
        "from sklearn import preprocessing\n",
        "from sklearn.model_selection import train_test_split\n",
        "from sklearn.metrics import confusion_matrix\n",
        "import matplotlib.pyplot as plt\n",
        "from matplotlib.pyplot import figure\n",
        "import math\n",
        "import copy\n",
        "\n",
        "%tensorflow_version 2.x\n",
        "import tensorflow as tf\n",
        "from tensorflow import keras\n",
        "from tensorflow.keras.models import Model\n",
        "from tensorflow.keras import layers\n",
        "from tensorflow.keras.regularizers import l1"
      ],
      "execution_count": null,
      "outputs": []
    },
    {
      "cell_type": "code",
      "metadata": {
        "id": "aWNeeZvtMyR_",
        "colab_type": "code",
        "colab": {}
      },
      "source": [
        "def plot_loss_mse_mae_accuracy(history,what_to_plot):\n",
        "  figure(num=None, figsize=(8,8), dpi=80, facecolor='w', edgecolor='k')\n",
        "  plt.plot(history.history[what_to_plot])\n",
        "  plt.plot(history.history['val_'+what_to_plot])\n",
        "  plt.title(what_to_plot + \" plot per epochs\" )\n",
        "  plt.ylabel(what_to_plot)\n",
        "  plt.xlabel('epoch')\n",
        "  plt.legend(['train_data', 'validation_data'], loc='upper right')\n",
        "  plt.show()\n",
        "\n",
        "\n",
        "def plot_confusion_matrix(cm, title='Confusion matrix', cmap='viridis'):\n",
        "  \n",
        "    figure(num=None, figsize=(8,8), dpi=80, facecolor='w', edgecolor='k')\n",
        "    plt.imshow(cm, interpolation='nearest', cmap=cmap)\n",
        "    tick_marks = np.arange(len(class_names))\n",
        "    plt.xticks(tick_marks, class_names, rotation=45)\n",
        "    plt.yticks(tick_marks, class_names)\n",
        "    for i in range(cm.shape[0]):\n",
        "        for j in range(cm.shape[1]):\n",
        "           plt.text(j, i, cm[i,j],ha=\"center\", va=\"center\")\n",
        "\n",
        "    plt.tight_layout()\n",
        "    plt.title(title)\n",
        "    plt.ylabel('True label')\n",
        "    plt.xlabel('Predicted label')\n"
      ],
      "execution_count": null,
      "outputs": []
    },
    {
      "cell_type": "markdown",
      "metadata": {
        "id": "7qk9Q_mNhJXa",
        "colab_type": "text"
      },
      "source": [
        "## MADLINE Implementation"
      ]
    },
    {
      "cell_type": "markdown",
      "metadata": {
        "id": "2BQ_Jjc6hM3Z",
        "colab_type": "text"
      },
      "source": [
        "make data"
      ]
    },
    {
      "cell_type": "code",
      "metadata": {
        "id": "wV5MV_p0VmZ3",
        "colab_type": "code",
        "colab": {}
      },
      "source": [
        "def plot_line(w,b,xlim,color0):\n",
        "  a = -w[0]/w[1]\n",
        "  b1 = -b/w[1]\n",
        "  x = np.linspace(xlim[0], xlim[1],100)\n",
        "  y = a*x+b1\n",
        "  plt.plot(x, y, color=color0)\n",
        "\n",
        "def plot_scatter(all_data):\n",
        "  for i in range(len(all_data)):\n",
        "    if all_data[i][1]==1:\n",
        "      color = \"blue\"\n",
        "    elif all_data[i][1]==2:\n",
        "      color = \"red\"\n",
        "    else:\n",
        "      color = \"green\"\n",
        "    plt.scatter(all_data[i][0][0],all_data[i][0][1],color=color)"
      ],
      "execution_count": null,
      "outputs": []
    },
    {
      "cell_type": "code",
      "metadata": {
        "id": "TNpPWWtEhLZZ",
        "colab_type": "code",
        "colab": {}
      },
      "source": [
        "def data_gen(mu, sigma, num_data, label):\n",
        "  data_2d=[]\n",
        "  x1 = np.random.normal(mu[0], sigma[0], num_data) \n",
        "  x2 = np.random.normal(mu[1], sigma[1], num_data)\n",
        "  for i in range(num_data):\n",
        "    data_2d.append([[x1[i], x2[i]], label])\n",
        "\n",
        "  return data_2d\n",
        "\n",
        "\n",
        "mu1, sigma1 = [3, 2.5], [0.2, 0.3]\n",
        "mu2, sigma2 = [1, 2], [0.2, 0.2]\n",
        "num_data1=50\n",
        "num_data2=50\n",
        "class1 = data_gen(mu1, sigma1, num_data1, 1)\n",
        "class2 = data_gen(mu2, sigma2, num_data2, 2)\n",
        "\n",
        "class3 = [[[0, 2], 3], [[1, 1], 3], [[1, 3.5], 3],\n",
        "          [[2, 1], 3], [[2, 2], 3], [[2, 3], 3],\n",
        "          [[3, 1], 3], [[3, 4], 3], [[4, 2], 3],\n",
        "          [[4, 1], 3], [[4, 3], 3], [[3.8, 3.5], 3]]\n",
        "for i in range(len(class3)):\n",
        "  class3[i][0] = np.asanyarray(class3[i][0]) \n",
        "     \n",
        "all_data = class1 + class2 + class3"
      ],
      "execution_count": null,
      "outputs": []
    },
    {
      "cell_type": "code",
      "metadata": {
        "id": "tAg6HhhZijg0",
        "colab_type": "code",
        "colab": {
          "base_uri": "https://localhost:8080/",
          "height": 796
        },
        "outputId": "28a45e5d-cff9-490c-a88d-e97c79427511"
      },
      "source": [
        "figure(num=None, figsize=(12,12), dpi=80, facecolor='w', edgecolor='k')\n",
        "plot_scatter(all_data)\n",
        "plt.xlim(-1, 4.5)\n",
        "plt.ylim(0, 4.5)\n"
      ],
      "execution_count": null,
      "outputs": [
        {
          "output_type": "execute_result",
          "data": {
            "text/plain": [
              "(0.0, 4.5)"
            ]
          },
          "metadata": {
            "tags": []
          },
          "execution_count": 5
        },
        {
          "output_type": "display_data",
          "data": {
            "image/png": "[encoded data removed]",
            "text/plain": [
              "<Figure size 960x960 with 1 Axes>"
            ]
          },
          "metadata": {
            "tags": []
          }
        }
      ]
    },
    {
      "cell_type": "code",
      "metadata": {
        "id": "CPm6LWPjk_WW",
        "colab_type": "code",
        "colab": {}
      },
      "source": [
        "def sign_vec(inputt):\n",
        "  out = np.ones(len(inputt))\n",
        "  for i in range(len(inputt)):\n",
        "    if inputt[i]<0:\n",
        "      out[i] = -1\n",
        "  return out\n",
        "\n",
        "def madline(all_data,num_norons,epochs):\n",
        "\n",
        "  \n",
        "  w = np.random.normal(0, 0.5, (num_norons, 2))\n",
        "  b = np.zeros(num_norons)\n",
        "  l = 0.001\n",
        "\n",
        "  for e1 in range(epochs):\n",
        "    correct = 0\n",
        "    for i in range(len(all_data)):\n",
        "\n",
        "      net = np.dot(w,all_data[i][0]) + b\n",
        "      h = sign_vec(net)\n",
        "\n",
        "      dw = l * all_data[i][1] * np.asanyarray(all_data[i][0])\n",
        "\n",
        "      if all_data[i][1] == 1:\n",
        "        if h.sum() != num_norons:\n",
        "          for j in range (num_norons):\n",
        "            if h[j] == -1:\n",
        "              w[j] = w[j] + dw\n",
        "              b[j] = b[j] + l * all_data[i][1]\n",
        "          # w = w + dw\n",
        "          # b = b + l * all_data[i][1]\n",
        "          # nearest_line = np.argmin(net)\n",
        "          # w[nearest_line] = w[nearest_line] + dw\n",
        "          # b[nearest_line] = b[nearest_line] + l * all_data[i][1]\n",
        "        else:\n",
        "          correct = correct + 1\n",
        "\n",
        "      if all_data[i][1] == -1:\n",
        "        if h.sum() == num_norons:\n",
        "          w = w + dw\n",
        "          b = b + l * all_data[i][1]\n",
        "          # nearest_line = np.argmin(net)\n",
        "          # w[nearest_line] = w[nearest_line] + dw\n",
        "          # b[nearest_line] = b[nearest_line] + l * all_data[i][1]\n",
        "\n",
        "        else:\n",
        "          correct = correct + 1\n",
        "\n",
        "    \n",
        "    if correct == len(all_data):\n",
        "      break\n",
        "  print(\"Accuracy: \",correct/len(all_data))\n",
        "  return w,b\n",
        "\n",
        "\n",
        "def one_hot_data(data, hot_class):\n",
        "  temp = copy.deepcopy(data)\n",
        "  for i in range(len(data)):\n",
        "    if data[i][1] == hot_class:\n",
        "      temp[i][1] = 1\n",
        "    else:\n",
        "      temp[i][1] = -1\n",
        "  return temp   "
      ],
      "execution_count": null,
      "outputs": []
    },
    {
      "cell_type": "code",
      "metadata": {
        "id": "9Iq2nIeQ9Qgo",
        "colab_type": "code",
        "colab": {
          "base_uri": "https://localhost:8080/",
          "height": 51
        },
        "outputId": "55e1b086-442f-4530-f038-d951c8d4f36d"
      },
      "source": [
        "epochs = 500\n",
        "num_norons1 = 3\n",
        "num_norons2 = 3\n",
        "data1 = one_hot_data(all_data,1)\n",
        "data2 = one_hot_data(all_data,2)\n",
        "\n",
        "w1,b1 = madline(data1,num_norons1,epochs)\n",
        "w2,b2 = madline(data2,num_norons2,epochs)"
      ],
      "execution_count": null,
      "outputs": [
        {
          "output_type": "stream",
          "text": [
            "Accuracy:  1.0\n",
            "Accuracy:  1.0\n"
          ],
          "name": "stdout"
        }
      ]
    },
    {
      "cell_type": "code",
      "metadata": {
        "id": "1XhpbJ-4Q5jE",
        "colab_type": "code",
        "colab": {
          "base_uri": "https://localhost:8080/",
          "height": 554
        },
        "outputId": "7e444394-b9d7-495e-b09e-699e1a9ae6f1"
      },
      "source": [
        "figure(num=None, figsize=(8,8), dpi=80, facecolor='w', edgecolor='k')\n",
        "for i in range(len(w1)):\n",
        "  plot_line(w1[i],b1[i],[1.5,5],\"orange\")\n",
        "for i in range(len(w2)):\n",
        "  plot_line(w2[i],b2[i],[-1,2.5],\"pink\")\n",
        "\n",
        "plot_scatter(all_data)\n",
        "plt.xlim(-1, 5.0)\n",
        "plt.ylim(-1, 5.0)"
      ],
      "execution_count": null,
      "outputs": [
        {
          "output_type": "execute_result",
          "data": {
            "text/plain": [
              "(-1.0, 5.0)"
            ]
          },
          "metadata": {
            "tags": []
          },
          "execution_count": 10
        },
        {
          "output_type": "display_data",
          "data": {
            "image/png": "[encoded data removed]",
            "text/plain": [
              "<Figure size 640x640 with 1 Axes>"
            ]
          },
          "metadata": {
            "tags": []
          }
        }
      ]
    },
    {
      "cell_type": "markdown",
      "metadata": {
        "id": "hDZFO7RM_zk7",
        "colab_type": "text"
      },
      "source": [
        "## House Price prediction MLP Regression"
      ]
    },
    {
      "cell_type": "code",
      "metadata": {
        "id": "PHCy0MO7uYYV",
        "colab_type": "code",
        "colab": {}
      },
      "source": [
        "data = pd.read_csv(\"/content/drive/My Drive/House Sales.csv\")\n",
        "train, test = train_test_split(data.iloc[0:5000,2:], test_size=0.2)"
      ],
      "execution_count": null,
      "outputs": []
    },
    {
      "cell_type": "markdown",
      "metadata": {
        "id": "p4Xy-pJXm-za",
        "colab_type": "text"
      },
      "source": [
        "preparing data"
      ]
    },
    {
      "cell_type": "code",
      "metadata": {
        "id": "uTOW4yF3wEir",
        "colab_type": "code",
        "colab": {}
      },
      "source": [
        "none_norm_train = train.drop(columns=[\"price\"])\n",
        "train_data = (none_norm_train - none_norm_train.min())/(none_norm_train.max() - none_norm_train.min())\n",
        "train_label = (train[\"price\"] - train[\"price\"].min())/(train[\"price\"].max() - train[\"price\"].min())\n",
        "\n",
        "none_norm_test = test.drop(columns=[\"price\"])\n",
        "test_data = (none_norm_test - none_norm_train.min())/(none_norm_train.max() - none_norm_train.min())\n",
        "norm_test_label = (test[\"price\"] - train[\"price\"].min())/(train[\"price\"].max() - train[\"price\"].min())\n",
        "test_label = test[\"price\"]\n",
        "\n"
      ],
      "execution_count": null,
      "outputs": []
    },
    {
      "cell_type": "markdown",
      "metadata": {
        "id": "ODG1pa-YvH43",
        "colab_type": "text"
      },
      "source": [
        "defining model and training"
      ]
    },
    {
      "cell_type": "code",
      "metadata": {
        "id": "1ECP1il_19tk",
        "colab_type": "code",
        "colab": {}
      },
      "source": [
        "def my_optimizer():\n",
        "  return keras.optimizers.Adam(learning_rate=0.001, beta_1=0.9, beta_2=0.999, amsgrad=False)\n",
        "\n",
        "def build_model():\n",
        "  model = keras.Sequential()\n",
        "  model.add(layers.Dense(100, input_dim=train_data.shape[1], activation='relu'))\n",
        "  model.add(layers.Dense(30, activation='relu'))\n",
        "  model.add(layers.Dense(1))\n",
        "  model.compile(loss='mean_squared_error', optimizer = my_optimizer(), metrics=['mse','mae'])\n",
        "  return model\n",
        "\n",
        "def step_decay(epoch):\n",
        "  initial_lrate = 0.001\n",
        "  drop = 0.5\n",
        "  epochs_drop = 10.0\n",
        "  lrate = initial_lrate * math.pow(drop, math.floor((1+epoch)/epochs_drop))\n",
        "  return lrate"
      ],
      "execution_count": null,
      "outputs": []
    },
    {
      "cell_type": "code",
      "metadata": {
        "id": "m2OH3rCVJiGa",
        "colab_type": "code",
        "colab": {}
      },
      "source": [
        "model = build_model()\n",
        "model.summary()\n",
        "\n",
        "lrate = keras.callbacks.LearningRateScheduler(step_decay, verbose=0)\n",
        "early_stop = keras.callbacks.EarlyStopping(monitor='val_loss', patience=25)\n",
        "history = model.fit(train_data, train_label,\n",
        "                    epochs=100,\n",
        "                    batch_size=20,\n",
        "                    validation_split = 0.2,\n",
        "                    # validation_data=(test_data, norm_test_label),\n",
        "                    callbacks=[early_stop, lrate])"
      ],
      "execution_count": null,
      "outputs": []
    },
    {
      "cell_type": "markdown",
      "metadata": {
        "id": "pnM2rZH2vjVd",
        "colab_type": "text"
      },
      "source": [
        "ploting loss and metrics per epoch"
      ]
    },
    {
      "cell_type": "code",
      "metadata": {
        "id": "RRdLiTpHJrSq",
        "colab_type": "code",
        "colab": {
          "base_uri": "https://localhost:8080/",
          "height": 1000
        },
        "outputId": "0fd74b56-9415-47cd-95b8-26562ffa18f7"
      },
      "source": [
        "plot_loss_mse_mae_accuracy(\"mse\")\n",
        "print(\"\\n\")\n",
        "plot_loss_mse_mae_accuracy(\"mae\")\n",
        "print(\"\\n\")\n",
        "plot_loss_mse_mae_accuracy(\"loss\")"
      ],
      "execution_count": null,
      "outputs": [
        {
          "output_type": "display_data",
          "data": {
            "image/png": "[encoded data removed]",
            "text/plain": [
              "<Figure size 640x640 with 1 Axes>"
            ]
          },
          "metadata": {
            "tags": []
          }
        },
        {
          "output_type": "stream",
          "text": [
            "\n",
            "\n"
          ],
          "name": "stdout"
        },
        {
          "output_type": "display_data",
          "data": {
            "image/png": "[encoded data removed]",
            "text/plain": [
              "<Figure size 640x640 with 1 Axes>"
            ]
          },
          "metadata": {
            "tags": []
          }
        },
        {
          "output_type": "stream",
          "text": [
            "\n",
            "\n"
          ],
          "name": "stdout"
        },
        {
          "output_type": "display_data",
          "data": {
            "image/png": "[encoded data removed]",
            "text/plain": [
              "<Figure size 640x640 with 1 Axes>"
            ]
          },
          "metadata": {
            "tags": []
          }
        }
      ]
    },
    {
      "cell_type": "markdown",
      "metadata": {
        "id": "DM5gcapc8llL",
        "colab_type": "text"
      },
      "source": [
        "evaluate model"
      ]
    },
    {
      "cell_type": "code",
      "metadata": {
        "id": "BkCrddVbCPq8",
        "colab_type": "code",
        "colab": {
          "base_uri": "https://localhost:8080/",
          "height": 68
        },
        "outputId": "8a2b7a3f-2271-4497-81b4-d1ff28020bcb"
      },
      "source": [
        "loss, mse, mae = model.evaluate(test_data, norm_test_label, verbose=2)\n",
        "norm_test_predictions = model.predict(test_data).flatten()\n",
        "test_predictions = (norm_test_predictions * (train[\"price\"].max() - train[\"price\"].min())) + train[\"price\"].min()\n",
        "\n",
        "predection_error = test_label - test_predictions\n",
        "predection_error = predection_error.abs()\n",
        "mae__none_normalized_prices = predection_error.sum()/test_label.shape\n",
        "print(\"\\nMean absolute error for none normalized prices: \",mae__none_normalized_prices[0])"
      ],
      "execution_count": null,
      "outputs": [
        {
          "output_type": "stream",
          "text": [
            "32/32 - 0s - loss: 3.6470e-04 - mse: 3.7193e-04 - mae: 0.0118\n",
            "\n",
            "Mean absolute error for none normalized prices:  82285.434640625\n"
          ],
          "name": "stdout"
        }
      ]
    },
    {
      "cell_type": "code",
      "metadata": {
        "id": "aeZ10bPMIUFS",
        "colab_type": "code",
        "colab": {
          "base_uri": "https://localhost:8080/",
          "height": 1000
        },
        "outputId": "3395c818-523b-44c1-d093-ef023f2c64d4"
      },
      "source": [
        "for i in range(100):\n",
        "  print(\"real price: \", test_label.iloc[i], \"   pridected price: \", test_predictions[i], \"  error: \", test_label.iloc[i] - test_predictions[i],\"\\n\")"
      ],
      "execution_count": null,
      "outputs": [
        {
          "output_type": "stream",
          "text": [
            "real price:  297500.0    pridected price:  304158.53   error:  -6658.53125 \n",
            "\n",
            "real price:  692500.0    pridected price:  1236676.1   error:  -544176.125 \n",
            "\n",
            "real price:  532170.0    pridected price:  494646.66   error:  37523.34375 \n",
            "\n",
            "real price:  280000.0    pridected price:  261304.9   error:  18695.09375 \n",
            "\n",
            "real price:  446500.0    pridected price:  772827.3   error:  -326327.3125 \n",
            "\n",
            "real price:  216000.0    pridected price:  215362.8   error:  637.203125 \n",
            "\n",
            "real price:  850830.0    pridected price:  969621.5   error:  -118791.5 \n",
            "\n",
            "real price:  930000.0    pridected price:  890348.56   error:  39651.4375 \n",
            "\n",
            "real price:  761000.0    pridected price:  562936.44   error:  198063.5625 \n",
            "\n",
            "real price:  295450.0    pridected price:  281388.44   error:  14061.5625 \n",
            "\n",
            "real price:  753888.0    pridected price:  722549.94   error:  31338.0625 \n",
            "\n",
            "real price:  1000000.0    pridected price:  570468.6   error:  429531.375 \n",
            "\n",
            "real price:  234000.0    pridected price:  246442.75   error:  -12442.75 \n",
            "\n",
            "real price:  568000.0    pridected price:  728269.25   error:  -160269.25 \n",
            "\n",
            "real price:  423000.0    pridected price:  539145.5   error:  -116145.5 \n",
            "\n",
            "real price:  250250.0    pridected price:  279233.0   error:  -28983.0 \n",
            "\n",
            "real price:  320000.0    pridected price:  253572.19   error:  66427.8125 \n",
            "\n",
            "real price:  525000.0    pridected price:  432825.25   error:  92174.75 \n",
            "\n",
            "real price:  160000.0    pridected price:  201355.48   error:  -41355.484375 \n",
            "\n",
            "real price:  397500.0    pridected price:  415344.03   error:  -17844.03125 \n",
            "\n",
            "real price:  380000.0    pridected price:  422351.94   error:  -42351.9375 \n",
            "\n",
            "real price:  1000000.0    pridected price:  1635321.9   error:  -635321.875 \n",
            "\n",
            "real price:  718000.0    pridected price:  813090.06   error:  -95090.0625 \n",
            "\n",
            "real price:  653000.0    pridected price:  721428.56   error:  -68428.5625 \n",
            "\n",
            "real price:  750000.0    pridected price:  712300.75   error:  37699.25 \n",
            "\n",
            "real price:  272000.0    pridected price:  194390.98   error:  77609.015625 \n",
            "\n",
            "real price:  400000.0    pridected price:  490905.7   error:  -90905.6875 \n",
            "\n",
            "real price:  428000.0    pridected price:  438686.28   error:  -10686.28125 \n",
            "\n",
            "real price:  539950.0    pridected price:  770015.4   error:  -230065.375 \n",
            "\n",
            "real price:  210000.0    pridected price:  283886.44   error:  -73886.4375 \n",
            "\n",
            "real price:  775000.0    pridected price:  832543.44   error:  -57543.4375 \n",
            "\n",
            "real price:  219950.0    pridected price:  285772.9   error:  -65822.90625 \n",
            "\n",
            "real price:  426000.0    pridected price:  367572.9   error:  58427.09375 \n",
            "\n",
            "real price:  275000.0    pridected price:  472480.7   error:  -197480.6875 \n",
            "\n",
            "real price:  144975.0    pridected price:  167120.62   error:  -22145.625 \n",
            "\n",
            "real price:  425000.0    pridected price:  411087.72   error:  13912.28125 \n",
            "\n",
            "real price:  289950.0    pridected price:  268181.75   error:  21768.25 \n",
            "\n",
            "real price:  860000.0    pridected price:  946158.0   error:  -86158.0 \n",
            "\n",
            "real price:  555000.0    pridected price:  609536.5   error:  -54536.5 \n",
            "\n",
            "real price:  405000.0    pridected price:  412256.8   error:  -7256.8125 \n",
            "\n",
            "real price:  387000.0    pridected price:  445170.56   error:  -58170.5625 \n",
            "\n",
            "real price:  283000.0    pridected price:  275555.44   error:  7444.5625 \n",
            "\n",
            "real price:  525000.0    pridected price:  518611.78   error:  6388.21875 \n",
            "\n",
            "real price:  427000.0    pridected price:  521137.25   error:  -94137.25 \n",
            "\n",
            "real price:  279950.0    pridected price:  270306.88   error:  9643.125 \n",
            "\n",
            "real price:  397500.0    pridected price:  437571.66   error:  -40071.65625 \n",
            "\n",
            "real price:  218000.0    pridected price:  281861.7   error:  -63861.6875 \n",
            "\n",
            "real price:  306000.0    pridected price:  475865.16   error:  -169865.15625 \n",
            "\n",
            "real price:  269000.0    pridected price:  285422.94   error:  -16422.9375 \n",
            "\n",
            "real price:  435000.0    pridected price:  569549.25   error:  -134549.25 \n",
            "\n",
            "real price:  300000.0    pridected price:  308317.38   error:  -8317.375 \n",
            "\n",
            "real price:  600000.0    pridected price:  540707.4   error:  59292.625 \n",
            "\n",
            "real price:  245000.0    pridected price:  304801.38   error:  -59801.375 \n",
            "\n",
            "real price:  542000.0    pridected price:  464168.0   error:  77832.0 \n",
            "\n",
            "real price:  705000.0    pridected price:  508124.94   error:  196875.0625 \n",
            "\n",
            "real price:  261500.0    pridected price:  318326.7   error:  -56826.6875 \n",
            "\n",
            "real price:  245000.0    pridected price:  208371.84   error:  36628.15625 \n",
            "\n",
            "real price:  200000.0    pridected price:  209808.52   error:  -9808.515625 \n",
            "\n",
            "real price:  250000.0    pridected price:  254552.81   error:  -4552.8125 \n",
            "\n",
            "real price:  522000.0    pridected price:  401024.78   error:  120975.21875 \n",
            "\n",
            "real price:  430000.0    pridected price:  625713.2   error:  -195713.1875 \n",
            "\n",
            "real price:  400000.0    pridected price:  501662.9   error:  -101662.90625 \n",
            "\n",
            "real price:  570000.0    pridected price:  540347.94   error:  29652.0625 \n",
            "\n",
            "real price:  555000.0    pridected price:  653944.7   error:  -98944.6875 \n",
            "\n",
            "real price:  250000.0    pridected price:  265708.53   error:  -15708.53125 \n",
            "\n",
            "real price:  500000.0    pridected price:  637779.4   error:  -137779.375 \n",
            "\n",
            "real price:  735000.0    pridected price:  1008041.1   error:  -273041.125 \n",
            "\n",
            "real price:  188000.0    pridected price:  267127.62   error:  -79127.625 \n",
            "\n",
            "real price:  380000.0    pridected price:  278414.62   error:  101585.375 \n",
            "\n",
            "real price:  315000.0    pridected price:  242843.78   error:  72156.21875 \n",
            "\n",
            "real price:  231500.0    pridected price:  307625.16   error:  -76125.15625 \n",
            "\n",
            "real price:  560000.0    pridected price:  478188.03   error:  81811.96875 \n",
            "\n",
            "real price:  295000.0    pridected price:  311894.7   error:  -16894.6875 \n",
            "\n",
            "real price:  185000.0    pridected price:  243622.3   error:  -58622.296875 \n",
            "\n",
            "real price:  935000.0    pridected price:  1322188.6   error:  -387188.625 \n",
            "\n",
            "real price:  661000.0    pridected price:  676040.06   error:  -15040.0625 \n",
            "\n",
            "real price:  320000.0    pridected price:  296042.62   error:  23957.375 \n",
            "\n",
            "real price:  430000.0    pridected price:  492234.78   error:  -62234.78125 \n",
            "\n",
            "real price:  988000.0    pridected price:  1325572.8   error:  -337572.75 \n",
            "\n",
            "real price:  167000.0    pridected price:  315634.62   error:  -148634.625 \n",
            "\n",
            "real price:  356500.0    pridected price:  272719.56   error:  83780.4375 \n",
            "\n",
            "real price:  570000.0    pridected price:  519882.6   error:  50117.40625 \n",
            "\n",
            "real price:  392400.0    pridected price:  556521.6   error:  -164121.625 \n",
            "\n",
            "real price:  190000.0    pridected price:  232049.98   error:  -42049.984375 \n",
            "\n",
            "real price:  525000.0    pridected price:  534258.25   error:  -9258.25 \n",
            "\n",
            "real price:  937000.0    pridected price:  845216.3   error:  91783.6875 \n",
            "\n",
            "real price:  225000.0    pridected price:  255880.98   error:  -30880.984375 \n",
            "\n",
            "real price:  250000.0    pridected price:  321615.38   error:  -71615.375 \n",
            "\n",
            "real price:  491000.0    pridected price:  408347.03   error:  82652.96875 \n",
            "\n",
            "real price:  788500.0    pridected price:  594357.1   error:  194142.875 \n",
            "\n",
            "real price:  519950.0    pridected price:  431203.75   error:  88746.25 \n",
            "\n",
            "real price:  170000.0    pridected price:  227214.56   error:  -57214.5625 \n",
            "\n",
            "real price:  735000.0    pridected price:  610206.1   error:  124793.875 \n",
            "\n",
            "real price:  270000.0    pridected price:  365717.25   error:  -95717.25 \n",
            "\n",
            "real price:  390000.0    pridected price:  363251.22   error:  26748.78125 \n",
            "\n",
            "real price:  632500.0    pridected price:  650222.3   error:  -17722.3125 \n",
            "\n",
            "real price:  255000.0    pridected price:  291268.56   error:  -36268.5625 \n",
            "\n",
            "real price:  550000.0    pridected price:  578391.4   error:  -28391.375 \n",
            "\n",
            "real price:  625000.0    pridected price:  843919.4   error:  -218919.375 \n",
            "\n",
            "real price:  649950.0    pridected price:  476897.44   error:  173052.5625 \n",
            "\n"
          ],
          "name": "stdout"
        }
      ]
    },
    {
      "cell_type": "markdown",
      "metadata": {
        "id": "4gYjUM-k_4Yx",
        "colab_type": "text"
      },
      "source": [
        "## FMNIST MLP"
      ]
    },
    {
      "cell_type": "code",
      "metadata": {
        "id": "l5ot4isaAK6c",
        "colab_type": "code",
        "colab": {}
      },
      "source": [
        "fashion_mnist = keras.datasets.fashion_mnist\n",
        "\n",
        "(train_data, train_label), (test_data, test_label) = fashion_mnist.load_data()"
      ],
      "execution_count": null,
      "outputs": []
    },
    {
      "cell_type": "code",
      "metadata": {
        "id": "WzqPm9KPB-LM",
        "colab_type": "code",
        "colab": {}
      },
      "source": [
        "norm_train_data = train_data/255\n",
        "norm_test_data = test_data/255\n",
        "\n",
        "class_names = ['T-shirt/top', 'Trouser', 'Pullover', 'Dress', 'Coat',\n",
        "               'Sandal', 'Shirt', 'Sneaker', 'Bag', 'Ankle boot']"
      ],
      "execution_count": null,
      "outputs": []
    },
    {
      "cell_type": "code",
      "metadata": {
        "id": "jQ1M4AFiCcCG",
        "colab_type": "code",
        "colab": {}
      },
      "source": [
        "def my_optimizer():\n",
        "  return keras.optimizers.Adam(learning_rate=0.001, beta_1=0.9, beta_2=0.999, amsgrad=False)\n",
        "\n",
        "def build_model():\n",
        "  model = keras.Sequential()\n",
        "  model.add(layers.Flatten(input_shape=(28, 28)))\n",
        "  model.add(layers.Dense(128, activation='relu', activity_regularizer=l1(0.001)))\n",
        "  model.add(layers.Dense(64, activation='relu', activity_regularizer=l1(0.001)))\n",
        "  model.add(layers.Dense(10))\n",
        "  model.compile(loss=tf.keras.losses.SparseCategoricalCrossentropy(from_logits=True), optimizer = my_optimizer(),  metrics=['accuracy'])\n",
        "  return model\n",
        "\n",
        "def step_decay(epoch):\n",
        "  initial_lrate = 0.002\n",
        "  drop = 0.5\n",
        "  epochs_drop = 10.0\n",
        "  lrate = initial_lrate * math.pow(drop, math.floor((1+epoch)/epochs_drop))\n",
        "  return lrate"
      ],
      "execution_count": null,
      "outputs": []
    },
    {
      "cell_type": "code",
      "metadata": {
        "id": "ad2_60m_TwfV",
        "colab_type": "code",
        "colab": {}
      },
      "source": [
        "batchsize = 256\n",
        "num_epochs = 100\n",
        "model = build_model()\n",
        "model.summary()\n",
        "\n",
        "lrate = keras.callbacks.LearningRateScheduler(step_decay, verbose=0)\n",
        "early_stop = keras.callbacks.EarlyStopping(monitor='val_loss', patience=15)\n",
        "myhistory = model.fit(norm_train_data, train_label,\n",
        "                    epochs=num_epochs,\n",
        "                    batch_size=batchsize,\n",
        "                    validation_split = 0.2,\n",
        "                    # validation_data=(norm_test_data, test_label),\n",
        "                    callbacks=[early_stop, lrate])"
      ],
      "execution_count": null,
      "outputs": []
    },
    {
      "cell_type": "code",
      "metadata": {
        "id": "LZBLI-7-T2Oy",
        "colab_type": "code",
        "colab": {
          "base_uri": "https://localhost:8080/",
          "height": 102
        },
        "outputId": "5c06ed5f-16f5-4a25-aa99-902a1b034fe7"
      },
      "source": [
        "test_loss, test_acc = model.evaluate(norm_test_data,  test_label, verbose=2)\n",
        "\n",
        "print('\\nTest accuracy:', test_acc)\n",
        "print('\\nTest loss:', test_loss)"
      ],
      "execution_count": null,
      "outputs": [
        {
          "output_type": "stream",
          "text": [
            "313/313 - 0s - loss: 0.3959 - accuracy: 0.8897\n",
            "\n",
            "Test accuracy: 0.8896999955177307\n",
            "\n",
            "Test loss: 0.3958635926246643\n"
          ],
          "name": "stdout"
        }
      ]
    },
    {
      "cell_type": "code",
      "metadata": {
        "id": "UqlKOkLLUGkr",
        "colab_type": "code",
        "colab": {}
      },
      "source": [
        "plot_loss_mse_mae_accuracy(myhistory,\"loss\")\n",
        "print(\"\\n\")\n",
        "plot_loss_mse_mae_accuracy(myhistory,\"accuracy\")"
      ],
      "execution_count": null,
      "outputs": []
    },
    {
      "cell_type": "code",
      "metadata": {
        "id": "vL4WwnlvEVfr",
        "colab_type": "code",
        "colab": {}
      },
      "source": [
        "predictions = model.predict(norm_test_data)\n",
        "predicted_labels=[]\n",
        "for pred in predictions:\n",
        "  predicted_labels.append(np.argmax(pred))"
      ],
      "execution_count": null,
      "outputs": []
    },
    {
      "cell_type": "code",
      "metadata": {
        "id": "1I1K1vifEAGe",
        "colab_type": "code",
        "colab": {
          "base_uri": "https://localhost:8080/",
          "height": 693
        },
        "outputId": "1921072b-301f-41a2-c416-26c902c91fe2"
      },
      "source": [
        "color_maps =['viridis',\n",
        "            'Greys', 'Purples', 'Blues', 'Greens', 'Oranges', 'Reds',\n",
        "            'YlOrBr', 'YlOrRd', 'OrRd', 'PuRd', 'RdPu', 'BuPu',\n",
        "            'GnBu', 'PuBu', 'YlGnBu', 'PuBuGn', 'BuGn', 'YlGn']\n",
        "cm = confusion_matrix(test_label, predicted_labels)\n",
        "np.set_printoptions(precision=2)\n",
        "# print('Confusion matrix: ')\n",
        "# print(cm)\n",
        "plt.figure()\n",
        "plot_confusion_matrix(cm,cmap=color_maps[0])"
      ],
      "execution_count": null,
      "outputs": [
        {
          "output_type": "display_data",
          "data": {
            "text/plain": [
              "<Figure size 432x288 with 0 Axes>"
            ]
          },
          "metadata": {
            "tags": []
          }
        },
        {
          "output_type": "display_data",
          "data": {
            "image/png": "[encoded data removed]",
            "text/plain": [
              "<Figure size 640x640 with 1 Axes>"
            ]
          },
          "metadata": {
            "tags": []
          }
        }
      ]
    },
    {
      "cell_type": "markdown",
      "metadata": {
        "id": "ttCl-igtWk7g",
        "colab_type": "text"
      },
      "source": [
        "## Dimention Reduction Methods"
      ]
    },
    {
      "cell_type": "code",
      "metadata": {
        "id": "MhhIGEiidVby",
        "colab_type": "code",
        "colab": {}
      },
      "source": [
        "fashion_mnist = keras.datasets.fashion_mnist\n",
        "\n",
        "(train_data, train_label), (test_data, test_label) = fashion_mnist.load_data()"
      ],
      "execution_count": null,
      "outputs": []
    },
    {
      "cell_type": "code",
      "metadata": {
        "id": "_swW_XXOdbZx",
        "colab_type": "code",
        "colab": {}
      },
      "source": [
        "def flat_2d_data(data):\n",
        "  flatten_data=[]\n",
        "  for i in range(data.shape[0]):\n",
        "    flatten_data.append([])\n",
        "    flatten_data[i] = data[i].flatten() \n",
        "  return np.asarray(flatten_data)\n",
        "\n",
        "norm_train_data = train_data/255\n",
        "norm_test_data = test_data/255\n",
        "\n",
        "norm_train_data = flat_2d_data(norm_train_data)\n",
        "norm_test_data = flat_2d_data(norm_test_data)"
      ],
      "execution_count": null,
      "outputs": []
    },
    {
      "cell_type": "code",
      "metadata": {
        "id": "7g_WBeuxf0CB",
        "colab_type": "code",
        "colab": {}
      },
      "source": [
        "def my_optimizer():\n",
        "  return keras.optimizers.Adam(learning_rate=0.001, beta_1=0.9, beta_2=0.999, amsgrad=False)\n",
        "\n",
        "def build_model_Q4(input_size):\n",
        "  model = keras.Sequential()\n",
        "  model.add(layers.Dense(128, activation='relu',input_dim = input_size, activity_regularizer=l1(0.001)))\n",
        "  model.add(layers.Dense(64, activation='relu', activity_regularizer=l1(0.001)))\n",
        "  model.add(layers.Dense(10))\n",
        "  model.compile(loss=tf.keras.losses.SparseCategoricalCrossentropy(from_logits=True), optimizer = my_optimizer(),  metrics=['accuracy'])\n",
        "  return model\n",
        "\n",
        "def step_decay(epoch):\n",
        "  initial_lrate = 0.002\n",
        "  drop = 0.5\n",
        "  epochs_drop = 10.0\n",
        "  lrate = initial_lrate * math.pow(drop, math.floor((1+epoch)/epochs_drop))\n",
        "  return lrate\n",
        "\n",
        "\n",
        "batchsize = 32\n",
        "num_epochs = 100\n",
        "lrate = keras.callbacks.LearningRateScheduler(step_decay, verbose=0)\n",
        "early_stop = keras.callbacks.EarlyStopping(monitor='val_loss', patience=10)"
      ],
      "execution_count": null,
      "outputs": []
    },
    {
      "cell_type": "markdown",
      "metadata": {
        "id": "tJjsp1yQZ0nX",
        "colab_type": "text"
      },
      "source": [
        "### pca"
      ]
    },
    {
      "cell_type": "code",
      "metadata": {
        "id": "r03VAdAIZ2M_",
        "colab_type": "code",
        "colab": {}
      },
      "source": [
        "from sklearn.decomposition import PCA"
      ],
      "execution_count": null,
      "outputs": []
    },
    {
      "cell_type": "code",
      "metadata": {
        "id": "7jL7TiJVZ-l3",
        "colab_type": "code",
        "colab": {
          "base_uri": "https://localhost:8080/",
          "height": 34
        },
        "outputId": "f69400e8-3042-4638-e22d-24fa85ad6e02"
      },
      "source": [
        "pca = PCA(0.9)\n",
        "pca.fit(norm_train_data)\n",
        "print(\"number of selected compponnents: \",pca.n_components_)"
      ],
      "execution_count": null,
      "outputs": [
        {
          "output_type": "stream",
          "text": [
            "number of selected compponnents:  84\n"
          ],
          "name": "stdout"
        }
      ]
    },
    {
      "cell_type": "code",
      "metadata": {
        "id": "Fl8xKn1eZ_ZC",
        "colab_type": "code",
        "colab": {}
      },
      "source": [
        "norm_train_data_pca = pca.transform(norm_train_data)\n",
        "norm_test_data_pca = pca.transform(norm_test_data)"
      ],
      "execution_count": null,
      "outputs": []
    },
    {
      "cell_type": "code",
      "metadata": {
        "id": "tijqzk7NadI1",
        "colab_type": "code",
        "colab": {
          "base_uri": "https://localhost:8080/",
          "height": 799
        },
        "outputId": "deedc675-a316-4aef-bd23-523900d54374"
      },
      "source": [
        "model_pca = build_model_Q4(pca.n_components_)\n",
        "model_pca.summary()\n",
        "history = model_pca.fit(norm_train_data_pca, train_label,\n",
        "                    epochs=num_epochs,\n",
        "                    batch_size=batchsize,\n",
        "                    # validation_split = 0.2,\n",
        "                    validation_data=(norm_test_data_pca, test_label),\n",
        "                    callbacks=[early_stop, lrate])"
      ],
      "execution_count": null,
      "outputs": [
        {
          "output_type": "stream",
          "text": [
            "Model: \"sequential\"\n",
            "_________________________________________________________________\n",
            "Layer (type)                 Output Shape              Param #   \n",
            "=================================================================\n",
            "dense (Dense)                (None, 128)               10880     \n",
            "_________________________________________________________________\n",
            "dense_1 (Dense)              (None, 64)                8256      \n",
            "_________________________________________________________________\n",
            "dense_2 (Dense)              (None, 10)                650       \n",
            "=================================================================\n",
            "Total params: 19,786\n",
            "Trainable params: 19,786\n",
            "Non-trainable params: 0\n",
            "_________________________________________________________________\n",
            "Epoch 1/100\n",
            "1875/1875 [==============================] - 4s 2ms/step - loss: 0.4814 - accuracy: 0.8511 - val_loss: 0.4390 - val_accuracy: 0.8612 - lr: 0.0020\n",
            "Epoch 2/100\n",
            "1875/1875 [==============================] - 3s 2ms/step - loss: 0.3633 - accuracy: 0.8842 - val_loss: 0.3800 - val_accuracy: 0.8775 - lr: 0.0020\n",
            "Epoch 3/100\n",
            "1875/1875 [==============================] - 3s 2ms/step - loss: 0.3258 - accuracy: 0.8946 - val_loss: 0.3750 - val_accuracy: 0.8767 - lr: 0.0020\n",
            "Epoch 4/100\n",
            "1875/1875 [==============================] - 3s 2ms/step - loss: 0.2997 - accuracy: 0.9025 - val_loss: 0.3743 - val_accuracy: 0.8789 - lr: 0.0020\n",
            "Epoch 5/100\n",
            "1875/1875 [==============================] - 3s 2ms/step - loss: 0.2803 - accuracy: 0.9098 - val_loss: 0.3631 - val_accuracy: 0.8854 - lr: 0.0020\n",
            "Epoch 6/100\n",
            "1875/1875 [==============================] - 3s 2ms/step - loss: 0.2651 - accuracy: 0.9138 - val_loss: 0.3604 - val_accuracy: 0.8875 - lr: 0.0020\n",
            "Epoch 7/100\n",
            "1875/1875 [==============================] - 3s 2ms/step - loss: 0.2530 - accuracy: 0.9173 - val_loss: 0.3723 - val_accuracy: 0.8835 - lr: 0.0020\n",
            "Epoch 8/100\n",
            "1875/1875 [==============================] - 3s 2ms/step - loss: 0.2412 - accuracy: 0.9227 - val_loss: 0.3657 - val_accuracy: 0.8871 - lr: 0.0020\n",
            "Epoch 9/100\n",
            "1875/1875 [==============================] - 3s 2ms/step - loss: 0.2330 - accuracy: 0.9251 - val_loss: 0.3775 - val_accuracy: 0.8868 - lr: 0.0020\n",
            "Epoch 10/100\n",
            "1875/1875 [==============================] - 3s 2ms/step - loss: 0.1929 - accuracy: 0.9419 - val_loss: 0.3651 - val_accuracy: 0.8916 - lr: 0.0010\n",
            "Epoch 11/100\n",
            "1875/1875 [==============================] - 3s 2ms/step - loss: 0.1771 - accuracy: 0.9471 - val_loss: 0.3814 - val_accuracy: 0.8908 - lr: 0.0010\n",
            "Epoch 12/100\n",
            "1875/1875 [==============================] - 3s 2ms/step - loss: 0.1690 - accuracy: 0.9509 - val_loss: 0.3924 - val_accuracy: 0.8913 - lr: 0.0010\n",
            "Epoch 13/100\n",
            "1875/1875 [==============================] - 4s 2ms/step - loss: 0.1616 - accuracy: 0.9534 - val_loss: 0.4056 - val_accuracy: 0.8881 - lr: 0.0010\n",
            "Epoch 14/100\n",
            "1875/1875 [==============================] - 4s 2ms/step - loss: 0.1547 - accuracy: 0.9558 - val_loss: 0.4233 - val_accuracy: 0.8883 - lr: 0.0010\n",
            "Epoch 15/100\n",
            "1875/1875 [==============================] - 3s 2ms/step - loss: 0.1482 - accuracy: 0.9586 - val_loss: 0.4447 - val_accuracy: 0.8823 - lr: 0.0010\n",
            "Epoch 16/100\n",
            "1875/1875 [==============================] - 3s 2ms/step - loss: 0.1445 - accuracy: 0.9597 - val_loss: 0.4450 - val_accuracy: 0.8858 - lr: 0.0010\n"
          ],
          "name": "stdout"
        }
      ]
    },
    {
      "cell_type": "code",
      "metadata": {
        "id": "bHZhVg-SW2ZU",
        "colab_type": "code",
        "colab": {
          "base_uri": "https://localhost:8080/",
          "height": 102
        },
        "outputId": "96ea71d8-1358-4d11-ab54-a042d0e05fc4"
      },
      "source": [
        " test_loss, test_acc = model_pca.evaluate(norm_test_data_pca,  test_label, verbose=2)\n",
        "\n",
        "print('\\nTest accuracy:', test_acc)\n",
        "print('\\nTest loss:', test_loss)"
      ],
      "execution_count": null,
      "outputs": [
        {
          "output_type": "stream",
          "text": [
            "313/313 - 0s - loss: 0.4450 - accuracy: 0.8858\n",
            "\n",
            "Test accuracy: 0.8858000040054321\n",
            "\n",
            "Test loss: 0.44502711296081543\n"
          ],
          "name": "stdout"
        }
      ]
    },
    {
      "cell_type": "markdown",
      "metadata": {
        "id": "9x3FwZP9ZxGQ",
        "colab_type": "text"
      },
      "source": [
        "### autoencoder"
      ]
    },
    {
      "cell_type": "code",
      "metadata": {
        "id": "hZLIZsJQWnJ3",
        "colab_type": "code",
        "colab": {}
      },
      "source": [
        "def build_auto_encoder(out_dimension):\n",
        "  model = keras.Sequential()\n",
        "  model.add(layers.Dense(4*out_dimension, activation='relu',input_dim = 784))\n",
        "  model.add(layers.Dense(2*out_dimension, activation='relu'))\n",
        "  model.add(layers.Dense(out_dimension, activation='relu',name=\"out_encoders\"))\n",
        "  model.add(layers.Dense(2*out_dimension, activation='relu'))\n",
        "  model.add(layers.Dense(4*out_dimension, activation='relu'))\n",
        "  model.add(layers.Dense(784, activation='sigmoid'))\n",
        "  model.compile(loss='binary_crossentropy', optimizer = \"adam\")\n",
        "  return model"
      ],
      "execution_count": null,
      "outputs": []
    },
    {
      "cell_type": "code",
      "metadata": {
        "id": "d873mEOinIPM",
        "colab_type": "code",
        "colab": {}
      },
      "source": [
        "auto_encoder_model = build_auto_encoder(84)\n",
        "auto_encoder_model.summary()"
      ],
      "execution_count": null,
      "outputs": []
    },
    {
      "cell_type": "code",
      "metadata": {
        "id": "lNpwGewplJ6r",
        "colab_type": "code",
        "colab": {}
      },
      "source": [
        "history = auto_encoder_model.fit(norm_train_data, norm_train_data,\n",
        "                    epochs=10,\n",
        "                    batch_size=20,\n",
        "                    validation_split = 0.2,\n",
        "                    callbacks=[early_stop, lrate])"
      ],
      "execution_count": null,
      "outputs": []
    },
    {
      "cell_type": "code",
      "metadata": {
        "id": "gMo9I_Wjtk2C",
        "colab_type": "code",
        "colab": {}
      },
      "source": [
        "out_auto_encoder = auto_encoder_model.predict(norm_train_data)"
      ],
      "execution_count": null,
      "outputs": []
    },
    {
      "cell_type": "code",
      "metadata": {
        "id": "64XW74Ye-_s0",
        "colab_type": "code",
        "colab": {}
      },
      "source": [
        "plt.imshow(norm_train_data[0].reshape(28, 28))\n",
        "plt.gray()\n",
        "plt.show()\n",
        "plt.imshow(out_auto_encoder[0].reshape(28, 28))\n",
        "plt.gray()\n",
        "plt.show()"
      ],
      "execution_count": null,
      "outputs": []
    },
    {
      "cell_type": "code",
      "metadata": {
        "id": "ygKEIiEiDcQ2",
        "colab_type": "code",
        "colab": {}
      },
      "source": [
        "layer_output = auto_encoder_model.get_layer(\"out_encoders\").output\n",
        "intermediate_model = keras.models.Model(inputs = auto_encoder_model.input,outputs=layer_output)"
      ],
      "execution_count": null,
      "outputs": []
    },
    {
      "cell_type": "code",
      "metadata": {
        "id": "zLZqBbkR__h7",
        "colab_type": "code",
        "colab": {}
      },
      "source": [
        "encoded_train_data = intermediate_model.predict(norm_train_data)\n",
        "encoded_test_data = intermediate_model.predict(norm_test_data)"
      ],
      "execution_count": null,
      "outputs": []
    },
    {
      "cell_type": "code",
      "metadata": {
        "id": "f03UZSx9DtNp",
        "colab_type": "code",
        "colab": {}
      },
      "source": [
        "model_auto_encoder = build_model_Q4(84)\n",
        "model_auto_encoder.summary()\n",
        "history = model_auto_encoder.fit(encoded_train_data, train_label,\n",
        "                    epochs=num_epochs,\n",
        "                    batch_size=batchsize,\n",
        "                    validation_split = 0.2,\n",
        "                    # validation_data=(norm_test_data, test_label),\n",
        "                    callbacks=[early_stop, lrate])"
      ],
      "execution_count": null,
      "outputs": []
    },
    {
      "cell_type": "code",
      "metadata": {
        "id": "IkYeO6NRwwW3",
        "colab_type": "code",
        "colab": {}
      },
      "source": [
        " test_loss, test_acc = model_auto_encoder.evaluate(encoded_test_data,  test_label, verbose=2)\n",
        "\n",
        "print('\\nTest accuracy:', test_acc)\n",
        "print('\\nTest loss:', test_loss)"
      ],
      "execution_count": null,
      "outputs": []
    },
    {
      "cell_type": "markdown",
      "metadata": {
        "id": "az0wREDhGAhM",
        "colab_type": "text"
      },
      "source": [
        "### RBM auto encoder"
      ]
    },
    {
      "cell_type": "code",
      "metadata": {
        "id": "r2qZP98iGERh",
        "colab_type": "code",
        "colab": {}
      },
      "source": [
        "class LayerTranspose(keras.layers.Layer):\n",
        "  def __init__(self, dense, activation, **kwargs):\n",
        "    self.dense = dense\n",
        "    self.activation = keras.activations.get(activation)\n",
        "    super().__init__(**kwargs)\n",
        "  \n",
        "  def build(self, batch_input_shape):\n",
        "    self.biases = self.add_weight(name = \"bias\",\n",
        "                                  shape = [self.dense.input_shape[-1]],\n",
        "                                  initializer = \"zeros\")\n",
        "    super().build(batch_input_shape)\n",
        "  \n",
        "  def call(self, inputs):\n",
        "    z = tf.matmul(inputs, self.dense.weights[0], transpose_b = True)\n",
        "    return self.activation(z + self.biases)"
      ],
      "execution_count": null,
      "outputs": []
    },
    {
      "cell_type": "code",
      "metadata": {
        "id": "llsZBYE-l95G",
        "colab_type": "code",
        "colab": {}
      },
      "source": [
        "def build_RBM_encoder(out_dimension):\n",
        "  model = keras.Sequential()\n",
        "  \n",
        "  layer0 = layers.Flatten(input_shape=(28*28,1))\n",
        "  layer1 = layers.Dense(784, activation='relu')\n",
        "  layer2 = layers.Dense(4*out_dimension, activation='relu')\n",
        "  layer3 = layers.Dense(2*out_dimension, activation='relu')\n",
        "  layer4 = layers.Dense(out_dimension, activation='relu',name=\"out_encoders\")\n",
        "\n",
        "  model.add(layer0)\n",
        "  model.add(layer1)\n",
        "  model.add(layer2)\n",
        "  model.add(layer3)\n",
        "  model.add(layer4)\n",
        "\n",
        "  model.add(LayerTranspose(layer4, activation='relu'))\n",
        "  model.add(LayerTranspose(layer3, activation='relu'))\n",
        "  model.add(LayerTranspose(layer2, activation='relu'))\n",
        "  model.add(LayerTranspose(layer1, activation='sigmoid'))\n",
        "\n",
        "  model.compile(loss='binary_crossentropy', optimizer = \"adam\")\n",
        "  return model"
      ],
      "execution_count": null,
      "outputs": []
    },
    {
      "cell_type": "code",
      "metadata": {
        "colab_type": "code",
        "id": "1T6lJCJCnrCO",
        "colab": {
          "base_uri": "https://localhost:8080/",
          "height": 459
        },
        "outputId": "28f0415e-8047-467e-c51b-898bce271cfc"
      },
      "source": [
        "RBM_encoder_model = build_RBM_encoder(84)\n",
        "RBM_encoder_model.summary()"
      ],
      "execution_count": null,
      "outputs": [
        {
          "output_type": "stream",
          "text": [
            "Model: \"sequential_8\"\n",
            "_________________________________________________________________\n",
            "Layer (type)                 Output Shape              Param #   \n",
            "=================================================================\n",
            "flatten_2 (Flatten)          (None, 784)               0         \n",
            "_________________________________________________________________\n",
            "dense_37 (Dense)             (None, 784)               615440    \n",
            "_________________________________________________________________\n",
            "dense_38 (Dense)             (None, 336)               263760    \n",
            "_________________________________________________________________\n",
            "dense_39 (Dense)             (None, 168)               56616     \n",
            "_________________________________________________________________\n",
            "out_encoders (Dense)         (None, 84)                14196     \n",
            "_________________________________________________________________\n",
            "layer_transpose_7 (LayerTran (None, 168)               14364     \n",
            "_________________________________________________________________\n",
            "layer_transpose_8 (LayerTran (None, 336)               56952     \n",
            "_________________________________________________________________\n",
            "layer_transpose_9 (LayerTran (None, 784)               264544    \n",
            "_________________________________________________________________\n",
            "layer_transpose_10 (LayerTra (None, 784)               616224    \n",
            "=================================================================\n",
            "Total params: 952,084\n",
            "Trainable params: 952,084\n",
            "Non-trainable params: 0\n",
            "_________________________________________________________________\n"
          ],
          "name": "stdout"
        }
      ]
    },
    {
      "cell_type": "code",
      "metadata": {
        "colab_type": "code",
        "id": "kO3OMeF0nrCT",
        "colab": {
          "base_uri": "https://localhost:8080/",
          "height": 527
        },
        "outputId": "6f8a3776-84a6-47d1-827e-58fbf4216e17"
      },
      "source": [
        "history = RBM_encoder_model.fit(norm_train_data, norm_train_data,\n",
        "                    epochs=15,\n",
        "                    batch_size=256,\n",
        "                    validation_split = 0.2,\n",
        "                    callbacks=[early_stop, lrate])"
      ],
      "execution_count": null,
      "outputs": [
        {
          "output_type": "stream",
          "text": [
            "Epoch 1/15\n",
            "188/188 [==============================] - 13s 69ms/step - loss: 0.2874 - val_loss: 0.2858 - lr: 0.0020\n",
            "Epoch 2/15\n",
            "188/188 [==============================] - 13s 68ms/step - loss: 0.2820 - val_loss: 0.2815 - lr: 0.0020\n",
            "Epoch 3/15\n",
            "188/188 [==============================] - 13s 68ms/step - loss: 0.2785 - val_loss: 0.2785 - lr: 0.0020\n",
            "Epoch 4/15\n",
            "188/188 [==============================] - 13s 68ms/step - loss: 0.2759 - val_loss: 0.2775 - lr: 0.0020\n",
            "Epoch 5/15\n",
            "188/188 [==============================] - 13s 68ms/step - loss: 0.2740 - val_loss: 0.2748 - lr: 0.0020\n",
            "Epoch 6/15\n",
            "188/188 [==============================] - 13s 68ms/step - loss: 0.2725 - val_loss: 0.2739 - lr: 0.0020\n",
            "Epoch 7/15\n",
            "188/188 [==============================] - 13s 68ms/step - loss: 0.2713 - val_loss: 0.2726 - lr: 0.0020\n",
            "Epoch 8/15\n",
            "188/188 [==============================] - 13s 69ms/step - loss: 0.2700 - val_loss: 0.2716 - lr: 0.0020\n",
            "Epoch 9/15\n",
            "188/188 [==============================] - 13s 68ms/step - loss: 0.2693 - val_loss: 0.2710 - lr: 0.0020\n",
            "Epoch 10/15\n",
            "188/188 [==============================] - 13s 68ms/step - loss: 0.2669 - val_loss: 0.2690 - lr: 0.0010\n",
            "Epoch 11/15\n",
            "188/188 [==============================] - 13s 68ms/step - loss: 0.2664 - val_loss: 0.2686 - lr: 0.0010\n",
            "Epoch 12/15\n",
            "188/188 [==============================] - 13s 68ms/step - loss: 0.2660 - val_loss: 0.2685 - lr: 0.0010\n",
            "Epoch 13/15\n",
            "188/188 [==============================] - 13s 68ms/step - loss: 0.2658 - val_loss: 0.2684 - lr: 0.0010\n",
            "Epoch 14/15\n",
            "188/188 [==============================] - 13s 68ms/step - loss: 0.2654 - val_loss: 0.2680 - lr: 0.0010\n",
            "Epoch 15/15\n",
            "188/188 [==============================] - 13s 68ms/step - loss: 0.2651 - val_loss: 0.2674 - lr: 0.0010\n"
          ],
          "name": "stdout"
        }
      ]
    },
    {
      "cell_type": "code",
      "metadata": {
        "colab_type": "code",
        "id": "1hB4RxcyurSF",
        "colab": {}
      },
      "source": [
        "layer_output = RBM_encoder_model.get_layer(\"out_encoders\").output\n",
        "intermediate_model = keras.models.Model(inputs = RBM_encoder_model.input,outputs=layer_output)"
      ],
      "execution_count": null,
      "outputs": []
    },
    {
      "cell_type": "code",
      "metadata": {
        "colab_type": "code",
        "id": "ZnQNKKgnurSJ",
        "colab": {}
      },
      "source": [
        "RBM_encoded_train_data = intermediate_model.predict(norm_train_data)\n",
        "RBM_encoded_test_data = intermediate_model.predict(norm_test_data)"
      ],
      "execution_count": null,
      "outputs": []
    },
    {
      "cell_type": "code",
      "metadata": {
        "colab_type": "code",
        "id": "7PadQaogurSL",
        "colab": {
          "base_uri": "https://localhost:8080/",
          "height": 1000
        },
        "outputId": "cfe1e67c-b13b-4ea3-ef75-d1cbc7c699fa"
      },
      "source": [
        "model_RBM_encoder = build_model_Q4(84)\n",
        "model_RBM_encoder.summary()\n",
        "history = model_RBM_encoder.fit(RBM_encoded_train_data, train_label,\n",
        "                    epochs=num_epochs,\n",
        "                    batch_size=batchsize,\n",
        "                    validation_split = 0.2,\n",
        "                    # validation_data=(norm_test_data, test_label),\n",
        "                    callbacks=[early_stop, lrate])"
      ],
      "execution_count": null,
      "outputs": [
        {
          "output_type": "stream",
          "text": [
            "Model: \"sequential_9\"\n",
            "_________________________________________________________________\n",
            "Layer (type)                 Output Shape              Param #   \n",
            "=================================================================\n",
            "dense_40 (Dense)             (None, 128)               10880     \n",
            "_________________________________________________________________\n",
            "dense_41 (Dense)             (None, 64)                8256      \n",
            "_________________________________________________________________\n",
            "dense_42 (Dense)             (None, 10)                650       \n",
            "=================================================================\n",
            "Total params: 19,786\n",
            "Trainable params: 19,786\n",
            "Non-trainable params: 0\n",
            "_________________________________________________________________\n",
            "Epoch 1/100\n",
            "1500/1500 [==============================] - 3s 2ms/step - loss: 0.5606 - accuracy: 0.8240 - val_loss: 0.4542 - val_accuracy: 0.8542 - lr: 0.0020\n",
            "Epoch 2/100\n",
            "1500/1500 [==============================] - 3s 2ms/step - loss: 0.4302 - accuracy: 0.8570 - val_loss: 0.4598 - val_accuracy: 0.8455 - lr: 0.0020\n",
            "Epoch 3/100\n",
            "1500/1500 [==============================] - 3s 2ms/step - loss: 0.4004 - accuracy: 0.8652 - val_loss: 0.4390 - val_accuracy: 0.8500 - lr: 0.0020\n",
            "Epoch 4/100\n",
            "1500/1500 [==============================] - 3s 2ms/step - loss: 0.3836 - accuracy: 0.8711 - val_loss: 0.4444 - val_accuracy: 0.8456 - lr: 0.0020\n",
            "Epoch 5/100\n",
            "1500/1500 [==============================] - 3s 2ms/step - loss: 0.3717 - accuracy: 0.8735 - val_loss: 0.3930 - val_accuracy: 0.8633 - lr: 0.0020\n",
            "Epoch 6/100\n",
            "1500/1500 [==============================] - 3s 2ms/step - loss: 0.3634 - accuracy: 0.8756 - val_loss: 0.3748 - val_accuracy: 0.8725 - lr: 0.0020\n",
            "Epoch 7/100\n",
            "1500/1500 [==============================] - 3s 2ms/step - loss: 0.3550 - accuracy: 0.8793 - val_loss: 0.3727 - val_accuracy: 0.8747 - lr: 0.0020\n",
            "Epoch 8/100\n",
            "1500/1500 [==============================] - 3s 2ms/step - loss: 0.3511 - accuracy: 0.8800 - val_loss: 0.3749 - val_accuracy: 0.8709 - lr: 0.0020\n",
            "Epoch 9/100\n",
            "1500/1500 [==============================] - 3s 2ms/step - loss: 0.3435 - accuracy: 0.8845 - val_loss: 0.3822 - val_accuracy: 0.8689 - lr: 0.0020\n",
            "Epoch 10/100\n",
            "1500/1500 [==============================] - 3s 2ms/step - loss: 0.3140 - accuracy: 0.8935 - val_loss: 0.3561 - val_accuracy: 0.8789 - lr: 0.0010\n",
            "Epoch 11/100\n",
            "1500/1500 [==============================] - 3s 2ms/step - loss: 0.3080 - accuracy: 0.8956 - val_loss: 0.3532 - val_accuracy: 0.8816 - lr: 0.0010\n",
            "Epoch 12/100\n",
            "1500/1500 [==============================] - 3s 2ms/step - loss: 0.3038 - accuracy: 0.8962 - val_loss: 0.3612 - val_accuracy: 0.8770 - lr: 0.0010\n",
            "Epoch 13/100\n",
            "1500/1500 [==============================] - 3s 2ms/step - loss: 0.2991 - accuracy: 0.8990 - val_loss: 0.3656 - val_accuracy: 0.8802 - lr: 0.0010\n",
            "Epoch 14/100\n",
            "1500/1500 [==============================] - 3s 2ms/step - loss: 0.2971 - accuracy: 0.9003 - val_loss: 0.3517 - val_accuracy: 0.8815 - lr: 0.0010\n",
            "Epoch 15/100\n",
            "1500/1500 [==============================] - 3s 2ms/step - loss: 0.2937 - accuracy: 0.8986 - val_loss: 0.3559 - val_accuracy: 0.8831 - lr: 0.0010\n",
            "Epoch 16/100\n",
            "1500/1500 [==============================] - 3s 2ms/step - loss: 0.2905 - accuracy: 0.9004 - val_loss: 0.3565 - val_accuracy: 0.8803 - lr: 0.0010\n",
            "Epoch 17/100\n",
            "1500/1500 [==============================] - 3s 2ms/step - loss: 0.2882 - accuracy: 0.9018 - val_loss: 0.3508 - val_accuracy: 0.8843 - lr: 0.0010\n",
            "Epoch 18/100\n",
            "1500/1500 [==============================] - 3s 2ms/step - loss: 0.2844 - accuracy: 0.9028 - val_loss: 0.3538 - val_accuracy: 0.8825 - lr: 0.0010\n",
            "Epoch 19/100\n",
            "1500/1500 [==============================] - 3s 2ms/step - loss: 0.2831 - accuracy: 0.9037 - val_loss: 0.3536 - val_accuracy: 0.8825 - lr: 0.0010\n",
            "Epoch 20/100\n",
            "1500/1500 [==============================] - 3s 2ms/step - loss: 0.2646 - accuracy: 0.9105 - val_loss: 0.3409 - val_accuracy: 0.8876 - lr: 5.0000e-04\n",
            "Epoch 21/100\n",
            "1500/1500 [==============================] - 3s 2ms/step - loss: 0.2612 - accuracy: 0.9107 - val_loss: 0.3452 - val_accuracy: 0.8851 - lr: 5.0000e-04\n",
            "Epoch 22/100\n",
            "1500/1500 [==============================] - 3s 2ms/step - loss: 0.2595 - accuracy: 0.9127 - val_loss: 0.3452 - val_accuracy: 0.8839 - lr: 5.0000e-04\n",
            "Epoch 23/100\n",
            "1500/1500 [==============================] - 3s 2ms/step - loss: 0.2577 - accuracy: 0.9120 - val_loss: 0.3475 - val_accuracy: 0.8871 - lr: 5.0000e-04\n",
            "Epoch 24/100\n",
            "1500/1500 [==============================] - 3s 2ms/step - loss: 0.2553 - accuracy: 0.9130 - val_loss: 0.3433 - val_accuracy: 0.8874 - lr: 5.0000e-04\n",
            "Epoch 25/100\n",
            "1500/1500 [==============================] - 3s 2ms/step - loss: 0.2533 - accuracy: 0.9136 - val_loss: 0.3461 - val_accuracy: 0.8867 - lr: 5.0000e-04\n",
            "Epoch 26/100\n",
            "1500/1500 [==============================] - 3s 2ms/step - loss: 0.2516 - accuracy: 0.9140 - val_loss: 0.3460 - val_accuracy: 0.8873 - lr: 5.0000e-04\n",
            "Epoch 27/100\n",
            "1500/1500 [==============================] - 3s 2ms/step - loss: 0.2497 - accuracy: 0.9158 - val_loss: 0.3495 - val_accuracy: 0.8881 - lr: 5.0000e-04\n",
            "Epoch 28/100\n",
            "1500/1500 [==============================] - 3s 2ms/step - loss: 0.2485 - accuracy: 0.9156 - val_loss: 0.3509 - val_accuracy: 0.8866 - lr: 5.0000e-04\n",
            "Epoch 29/100\n",
            "1500/1500 [==============================] - 3s 2ms/step - loss: 0.2466 - accuracy: 0.9166 - val_loss: 0.3507 - val_accuracy: 0.8862 - lr: 5.0000e-04\n",
            "Epoch 30/100\n",
            "1500/1500 [==============================] - 3s 2ms/step - loss: 0.2366 - accuracy: 0.9212 - val_loss: 0.3429 - val_accuracy: 0.8883 - lr: 2.5000e-04\n"
          ],
          "name": "stdout"
        }
      ]
    },
    {
      "cell_type": "code",
      "metadata": {
        "id": "kPhpa5xnudVH",
        "colab_type": "code",
        "colab": {
          "base_uri": "https://localhost:8080/",
          "height": 102
        },
        "outputId": "08d18dad-ca05-48e4-c0db-0f47eae53152"
      },
      "source": [
        " test_loss, test_acc = model_RBM_encoder.evaluate(RBM_encoded_test_data,  test_label, verbose=2)\n",
        "\n",
        "print('\\nTest accuracy:', test_acc)\n",
        "print('\\nTest loss:', test_loss)"
      ],
      "execution_count": null,
      "outputs": [
        {
          "output_type": "stream",
          "text": [
            "313/313 - 0s - loss: 0.3717 - accuracy: 0.8806\n",
            "\n",
            "Test accuracy: 0.8805999755859375\n",
            "\n",
            "Test loss: 0.37173235416412354\n"
          ],
          "name": "stdout"
        }
      ]
    }
  ]
}